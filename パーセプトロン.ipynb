{
 "cells": [
  {
   "cell_type": "code",
   "execution_count": 26,
   "metadata": {},
   "outputs": [
    {
     "data": {
      "image/png": "[encoded data removed]",
      "text/plain": [
       "<matplotlib.figure.Figure at 0x1f638f71c50>"
      ]
     },
     "metadata": {},
     "output_type": "display_data"
    },
    {
     "name": "stdout",
     "output_type": "stream",
     "text": [
      "1回目: w = [-152.12773941 -431.41889375]\n",
      "2回目: w = [321.87226059 -47.41889375]\n",
      "3回目: w = [  88.87226059 -477.41889375]\n",
      "4回目: w = [ 484.87226059 -156.41889375]\n",
      "5回目: w = [  85.87226059 -589.41889375]\n",
      "6回目: w = [ 488.87226059 -289.41889375]\n",
      "7回目: w = [ 109.87226059 -705.41889375]\n",
      "8回目: w = [ 372.87226059 -593.41889375]\n",
      "9回目: w = [ 846.87226059 -209.41889375]\n",
      "10回目: w = [ 613.87226059 -639.41889375]\n",
      "1\n",
      "-1\n"
     ]
    },
    {
     "data": {
      "image/png": "[encoded data removed]",
      "text/plain": [
       "<matplotlib.figure.Figure at 0x1f638e4f3c8>"
      ]
     },
     "metadata": {},
     "output_type": "display_data"
    }
   ],
   "source": [
    "import numpy as np\n",
    "import matplotlib.pyplot as plt\n",
    "\n",
    "# 学習データを読み込む\n",
    "train = np.loadtxt('sourcecode/images1.csv', delimiter = ',', skiprows=1)\n",
    "\n",
    "train_x = train[:,0:2]\n",
    "train_y = train[:,2]\n",
    "\n",
    "#print(train)\n",
    "#print(train_x)\n",
    "#print(train_y)\n",
    "\n",
    "# プロット\n",
    "plt.plot(train_x[train_y == 1, 0], train_x[train_y == 1, 1], 'o')\n",
    "plt.plot(train_x[train_y == -1, 0], train_x[train_y == -1, 1], 'x')\n",
    "plt.axis('scaled')\n",
    "plt.show()\n",
    "\n",
    "#　重みの初期化\n",
    "w = np.random.rand(2)\n",
    "\n",
    "# 識別関数\n",
    "def f(x):\n",
    "    if np.dot(w, x) >= 0:\n",
    "        return 1\n",
    "    else:\n",
    "        return -1\n",
    "\n",
    "# 繰り返し関数\n",
    "epoch = 10\n",
    "\n",
    "#　更新回数\n",
    "count = 0\n",
    "\n",
    "# 重みを学習する\n",
    "for _ in range(epoch):\n",
    "    for x, y in zip(train_x, train_y):\n",
    "        if f(x) != y:\n",
    "            w = w + y * x\n",
    "            # ログの出力\n",
    "            count += 1\n",
    "            print('{}回目: w = {}'.format(count, w))\n",
    "            \n",
    "print(f([200, 100]))\n",
    "print(f([100, 200]))\n",
    "            \n",
    "#print(w[0], w[1])\n",
    "\n",
    "x1 = np.arange(0, 500)\n",
    "            \n",
    "plt.plot(train_x[train_y == 1, 0], train_x[train_y == 1, 1], 'o')\n",
    "plt.plot(train_x[train_y == -1, 0], train_x[train_y == -1, 1], 'x')\n",
    "plt.plot(x1, -w[0] / w[1] * x1, linestyle='dashed')\n",
    "plt.show()"
   ]
  },
  {
   "cell_type": "code",
   "execution_count": null,
   "metadata": {},
   "outputs": [],
   "source": []
  }
 ],
 "metadata": {
  "kernelspec": {
   "display_name": "Python 3",
   "language": "python",
   "name": "python3"
  },
  "language_info": {
   "codemirror_mode": {
    "name": "ipython",
    "version": 3
   },
   "file_extension": ".py",
   "mimetype": "text/x-python",
   "name": "python",
   "nbconvert_exporter": "python",
   "pygments_lexer": "ipython3",
   "version": "3.6.4"
  }
 },
 "nbformat": 4,
 "nbformat_minor": 2
}
