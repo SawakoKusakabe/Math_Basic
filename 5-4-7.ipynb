{
 "cells": [
  {
   "cell_type": "code",
   "execution_count": 6,
   "metadata": {},
   "outputs": [
    {
     "data": {
      "image/png": "[encoded data removed]",
      "text/plain": [
       "<matplotlib.figure.Figure at 0x2cbff0752e8>"
      ]
     },
     "metadata": {},
     "output_type": "display_data"
    },
    {
     "data": {
      "image/png": "[encoded data removed]",
      "text/plain": [
       "<matplotlib.figure.Figure at 0x2cbfeea8c88>"
      ]
     },
     "metadata": {},
     "output_type": "display_data"
    }
   ],
   "source": [
    "import numpy as np\n",
    "import matplotlib.pyplot as plt\n",
    "\n",
    "# 学習データを読み込む\n",
    "train = np.loadtxt('sourcecode/data3.csv', delimiter=',', skiprows=1)\n",
    "train_x = train[0:,0:2]\n",
    "train_y = train[:,2]\n",
    "\n",
    "\n",
    "# パラメータを初期化\n",
    "theta = np.random.rand(4)\n",
    "#print(theta)\n",
    "#print(len(theta))\n",
    "\n",
    "# 標準化\n",
    "mu = train_x.mean(axis=0)\n",
    "sigma = train_x.std(axis=0)\n",
    "\n",
    "def standardize(x):\n",
    "    return (x-mu) / sigma\n",
    "\n",
    "train_z = standardize(train_x)\n",
    "\n",
    "# x0とx3を加える\n",
    "def to_matrix(x):\n",
    "    x0 = np.ones([x.shape[0], 1])\n",
    "    x3 = x[:,0,np.newaxis]**2\n",
    "    return np.hstack([x0, x, x3])\n",
    "\n",
    "X = to_matrix(train_z)\n",
    "\n",
    "# 分類関数\n",
    "def classify(x):\n",
    "    return (f(x) >= 0.5).astype(np.int)\n",
    "\n",
    "\n",
    "#print(X)\n",
    "#print(len(X))\n",
    "\n",
    "\n",
    "def f(x) :\n",
    "    return 1 / (1 + np.exp(-np.dot(x, theta)))\n",
    "\n",
    "#print((f(X)))\n",
    "\n",
    "# 学習率\n",
    "ETA = 1e-3\n",
    "\n",
    "# 繰り返し回数\n",
    "epoch = 5000\n",
    "# 更新回数\n",
    "count = 0\n",
    "\n",
    "\n",
    "# 学習を繰り返す\n",
    "for _ in range(epoch):\n",
    "    theta = theta - ETA * np.dot(f(X) - train_y, X)\n",
    "    # ログの出力\n",
    "   # count += 1\n",
    "    #print('{}回目: theta = {}'.format(count, theta))\n",
    "\n",
    "\n",
    "x1 = np.linspace(-2, 2, 100)\n",
    "x2 = -(theta[0] + theta[1] * x1 + theta[3] * x1 **2) / theta[2]\n",
    "\n",
    "# 標準化した学習データをプロット\n",
    "plt.plot(train_z[train_y == 1, 0], train_z[train_y == 1, 1], 'o')\n",
    "plt.plot(train_z[train_y == 0, 0], train_z[train_y == 0, 1], 'x')\n",
    "plt.plot(x1, x2, linestyle='dashed')\n",
    "plt.show()\n",
    "\n",
    "\n",
    "# パラメータを初期化\n",
    "theta = np.random.rand(4)\n",
    "\n",
    "#　精度の履歴\n",
    "accuracies = []\n",
    "\n",
    "# 学習を繰り返す\n",
    "for _ in range(epoch):\n",
    "    theta = theta - ETA * np.dot(f(X) - train_y, X)\n",
    "    # 現在の精度を計算\n",
    "    result = classify(X) == train_y\n",
    "    accuracy = len(result[result == True]) / len(result)\n",
    "    accuracies.append(accuracy)\n",
    "    \n",
    "# 精度をプロット\n",
    "x = np.arange(len(accuracies))\n",
    "\n",
    "plt.plot(x, accuracies)\n",
    "plt.show()"
   ]
  },
  {
   "cell_type": "code",
   "execution_count": null,
   "metadata": {},
   "outputs": [],
   "source": []
  }
 ],
 "metadata": {
  "kernelspec": {
   "display_name": "Python 3",
   "language": "python",
   "name": "python3"
  },
  "language_info": {
   "codemirror_mode": {
    "name": "ipython",
    "version": 3
   },
   "file_extension": ".py",
   "mimetype": "text/x-python",
   "name": "python",
   "nbconvert_exporter": "python",
   "pygments_lexer": "ipython3",
   "version": "3.6.4"
  }
 },
 "nbformat": 4,
 "nbformat_minor": 2
}
