{
 "cells": [
  {
   "cell_type": "code",
   "execution_count": 27,
   "metadata": {},
   "outputs": [
    {
     "data": {
      "image/png": "[encoded data removed]",
      "text/plain": [
       "<matplotlib.figure.Figure at 0x1d7d741a0f0>"
      ]
     },
     "metadata": {},
     "output_type": "display_data"
    }
   ],
   "source": [
    "import numpy as np\n",
    "import matplotlib.pyplot as plt\n",
    "\n",
    "# 学習データを読み込む\n",
    "train = np.loadtxt('sourcecode/images2.csv', delimiter=',', skiprows=1)\n",
    "train_x = train[0:,0:2]\n",
    "train_y = train[:,2]\n",
    "\n",
    "# パラメータを初期化\n",
    "theta = np.random.rand(3)\n",
    "#print(theta)\n",
    "#print(len(theta))\n",
    "\n",
    "# 標準化\n",
    "mu = train_x.mean(axis=0)\n",
    "sigma = train_x.std(axis=0)\n",
    "\n",
    "def standardize(x):\n",
    "    return (x-mu) / sigma\n",
    "\n",
    "train_z = standardize(train_x)\n",
    "\n",
    "# x0を加える\n",
    "def to_matrix(x):\n",
    "    x0 = np.ones([x.shape[0], 1])\n",
    "    return np.hstack([x0, x])\n",
    "\n",
    "X = to_matrix(train_z)\n",
    "\n",
    "#print(X)\n",
    "#print(len(X))\n",
    "\n",
    "\n",
    "def f(x) :\n",
    "    return 1 / (1 + np.exp(-np.dot(x, theta)))\n",
    "\n",
    "#print((f(X)))\n",
    "\n",
    "# 学習率\n",
    "ETA = 1e-3\n",
    "\n",
    "# 繰り返し回数\n",
    "epoch = 5000\n",
    "# 更新回数\n",
    "count = 0\n",
    "\n",
    "\n",
    "# 学習を繰り返す\n",
    "for _ in range(epoch):\n",
    "    theta = theta - ETA * np.dot(f(X) - train_y, X)\n",
    "    # ログの出力\n",
    "   # count += 1\n",
    "    #print('{}回目: theta = {}'.format(count, theta))\n",
    "    \n",
    "x0 = np.linspace(-2, 2, 100)\n",
    "\n",
    "# 標準化した学習データをプロット\n",
    "plt.plot(train_z[train_y == 1, 0], train_z[train_y == 1, 1], 'o')\n",
    "plt.plot(train_z[train_y == 0, 0], train_z[train_y == 0, 1], 'x')\n",
    "plt.plot(x0, -(theta[0] + theta[1] * x0) / theta[2], linestyle='dashed')\n",
    "plt.show()"
   ]
  },
  {
   "cell_type": "code",
   "execution_count": null,
   "metadata": {},
   "outputs": [],
   "source": []
  }
 ],
 "metadata": {
  "kernelspec": {
   "display_name": "Python 3",
   "language": "python",
   "name": "python3"
  },
  "language_info": {
   "codemirror_mode": {
    "name": "ipython",
    "version": 3
   },
   "file_extension": ".py",
   "mimetype": "text/x-python",
   "name": "python",
   "nbconvert_exporter": "python",
   "pygments_lexer": "ipython3",
   "version": "3.6.4"
  }
 },
 "nbformat": 4,
 "nbformat_minor": 2
}
