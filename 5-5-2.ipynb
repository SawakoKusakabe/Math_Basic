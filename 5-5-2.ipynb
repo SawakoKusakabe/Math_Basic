{
 "cells": [
  {
   "cell_type": "code",
   "execution_count": 18,
   "metadata": {},
   "outputs": [
    {
     "name": "stdout",
     "output_type": "stream",
     "text": [
      "[ 1.419639    0.22958435 -0.78248681 -0.60739818 -1.04585944  0.38562177\n",
      " -0.36020524  1.24066982 -0.51834904  0.14100474 -1.80213638]\n"
     ]
    },
    {
     "data": {
      "image/png": "[encoded data removed]",
      "text/plain": [
       "<matplotlib.figure.Figure at 0x102cfe567b8>"
      ]
     },
     "metadata": {},
     "output_type": "display_data"
    }
   ],
   "source": [
    "import numpy as np\n",
    "import matplotlib.pyplot as plt\n",
    "\n",
    "'''\n",
    "#　真の関数\n",
    "def g(x):\n",
    "    return 0.1 * (x ** 3 + x ** 2 + x)\n",
    "\n",
    "# 真の関数にノイズを加えた学習データを適当な数だけ用意する\n",
    "train_x = np.linspace(-2, 2, 8)\n",
    "train_y = g(train_x) + np.random.rand(train_x.size) * 0.05\n",
    "\n",
    "# プロットして確認\n",
    "x = np.linspace(-2, 2, 100)\n",
    "plt.plot(train_x, train_y, 'o')\n",
    "plt.plot(x, g(x), linestyle='dashed')\n",
    "plt.ylim(-1,2)\n",
    "plt.show()\n",
    "'''\n",
    "\n",
    "# 標準化\n",
    "mu = train_x.mean()\n",
    "sigma = train_x.std()\n",
    "def standardize(x):\n",
    "    return (x-mu) / sigma\n",
    "\n",
    "train_z = standardize(train_x)\n",
    "    \n",
    "# 学習データの行列を作る\n",
    "def to_matrix(x):\n",
    "    return np.vstack([\n",
    "        np.ones(x.size),\n",
    "        x,\n",
    "        x ** 2,\n",
    "        x ** 3,\n",
    "        x ** 4,\n",
    "        x ** 5,\n",
    "        x ** 6,\n",
    "        x ** 7,\n",
    "        x ** 8,\n",
    "        x ** 9,\n",
    "        x ** 10,\n",
    "    ]).T\n",
    "    \n",
    "    print(np.ones(x.size))\n",
    "    \n",
    "X = to_matrix(train_z)\n",
    "\n",
    "# パラメータの初期化\n",
    "theta = np.random.randn(X.shape[1])\n",
    "\n",
    "print(theta)\n",
    "\n",
    "'''\n",
    "print(X.shape[1])\n",
    "print (X.shape[0])\n",
    "print(X)\n",
    "print(theta)\n",
    "'''\n",
    "\n",
    "#　予測関数\n",
    "def f(x):\n",
    "    return np.dot(x, theta)\n",
    "\n",
    "# 目的関数\n",
    "def E(x, y):\n",
    "    return 0.5 * np.sum((y-f(x)) ** 2)\n",
    "\n",
    "# 学習率\n",
    "ETA = 1e-4\n",
    "\n",
    "# 誤差\n",
    "diff = 1\n",
    "\n",
    "# 学習を繰り返す\n",
    "error = E(X, train_y)\n",
    "while diff > 1e-6:\n",
    "    theta = theta - ETA * np.dot(f(X) - train_y, X)\n",
    "    current_error = E(X, train_y)\n",
    "    diff = error - current_error\n",
    "    error = current_error\n",
    "    \n",
    "# 結果をプロット\n",
    "z = standardize(x)\n",
    "plt.plot(train_z, train_y, 'o')\n",
    "plt.plot(z, f(to_matrix(z)))\n",
    "plt.show()"
   ]
  }
 ],
 "metadata": {
  "kernelspec": {
   "display_name": "Python 3",
   "language": "python",
   "name": "python3"
  },
  "language_info": {
   "codemirror_mode": {
    "name": "ipython",
    "version": 3
   },
   "file_extension": ".py",
   "mimetype": "text/x-python",
   "name": "python",
   "nbconvert_exporter": "python",
   "pygments_lexer": "ipython3",
   "version": "3.6.4"
  }
 },
 "nbformat": 4,
 "nbformat_minor": 2
}
